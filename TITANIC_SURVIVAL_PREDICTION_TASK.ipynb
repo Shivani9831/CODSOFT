{
  "nbformat": 4,
  "nbformat_minor": 0,
  "metadata": {
    "colab": {
      "provenance": [],
      "toc_visible": true,
      "authorship_tag": "ABX9TyPODgcVl12NJaRAcqWkXcDp",
      "include_colab_link": true
    },
    "kernelspec": {
      "name": "python3",
      "display_name": "Python 3"
    },
    "language_info": {
      "name": "python"
    }
  },
  "cells": [
    {
      "cell_type": "markdown",
      "metadata": {
        "id": "view-in-github",
        "colab_type": "text"
      },
      "source": [
        "<a href=\"https://colab.research.google.com/github/Shivani9831/CODSOFT/blob/main/TITANIC_SURVIVAL_PREDICTION_TASK.ipynb\" target=\"_parent\"><img src=\"https://colab.research.google.com/assets/colab-badge.svg\" alt=\"Open In Colab\"/></a>"
      ]
    },
    {
      "cell_type": "code",
      "execution_count": null,
      "metadata": {
        "id": "Rmllr6e_ahjg"
      },
      "outputs": [],
      "source": [
        "\n",
        "import pandas as pd\n",
        "\n",
        "import seaborn as sns\n",
        "\n",
        "# Load the Titanic dataset\n",
        "\n",
        "titanic = sns. load_dataset('titanic')\n"
      ]
    },
    {
      "cell_type": "code",
      "source": [
        "# Display the first few rows\n",
        "\n",
        "print(titanic.head())\n",
        "\n",
        "## Basic learning about the dataset\n",
        "\n",
        "print(titanic.info())\n",
        "\n",
        "# Check for missing values\n",
        "\n",
        "print(titanic.isnull().sum())"
      ],
      "metadata": {
        "colab": {
          "base_uri": "https://localhost:8080/"
        },
        "id": "yj4mi4NCwQCn",
        "outputId": "bc14dfee-fedb-4e1c-feb2-478589c06632"
      },
      "execution_count": null,
      "outputs": [
        {
          "output_type": "stream",
          "name": "stdout",
          "text": [
            "   survived  pclass  sex   age  sibsp  parch     fare embarked class  who  \\\n",
            "0         0       3   -1  22.0      1      0   7.2500        S     3    0   \n",
            "1         1       1   -1  38.0      1      0  71.2833        C     1    1   \n",
            "2         1       3   -1  26.0      0      0   7.9250        S     3    1   \n",
            "3         1       1   -1  35.0      1      0  53.1000        S     1    1   \n",
            "4         0       3   -1  35.0      0      0   8.0500        S     3    0   \n",
            "\n",
            "   adult_male  embark_town alive  alone  \n",
            "0        True  Southampton    no  False  \n",
            "1       False    Cherbourg   yes  False  \n",
            "2       False  Southampton   yes   True  \n",
            "3       False  Southampton   yes  False  \n",
            "4        True  Southampton    no   True  \n",
            "<class 'pandas.core.frame.DataFrame'>\n",
            "RangeIndex: 891 entries, 0 to 890\n",
            "Data columns (total 14 columns):\n",
            " #   Column       Non-Null Count  Dtype   \n",
            "---  ------       --------------  -----   \n",
            " 0   survived     891 non-null    int64   \n",
            " 1   pclass       891 non-null    int64   \n",
            " 2   sex          891 non-null    int64   \n",
            " 3   age          891 non-null    float64 \n",
            " 4   sibsp        891 non-null    int64   \n",
            " 5   parch        891 non-null    int64   \n",
            " 6   fare         891 non-null    float64 \n",
            " 7   embarked     889 non-null    object  \n",
            " 8   class        891 non-null    category\n",
            " 9   who          891 non-null    int64   \n",
            " 10  adult_male   891 non-null    bool    \n",
            " 11  embark_town  891 non-null    object  \n",
            " 12  alive        891 non-null    object  \n",
            " 13  alone        891 non-null    bool    \n",
            "dtypes: bool(2), category(1), float64(2), int64(6), object(3)\n",
            "memory usage: 79.4+ KB\n",
            "None\n",
            "survived       0\n",
            "pclass         0\n",
            "sex            0\n",
            "age            0\n",
            "sibsp          0\n",
            "parch          0\n",
            "fare           0\n",
            "embarked       2\n",
            "class          0\n",
            "who            0\n",
            "adult_male     0\n",
            "embark_town    0\n",
            "alive          0\n",
            "alone          0\n",
            "dtype: int64\n"
          ]
        }
      ]
    },
    {
      "cell_type": "code",
      "source": [
        "# Drop the 'deck' column if it exists\n",
        "if 'deck' in titanic.columns:\n",
        "    titanic.drop(columns=['deck'], inplace=True)\n",
        "\n",
        "# Check if 'embark_town' exists before filling NaN values\n",
        "if 'embark_town' in titanic.columns:\n",
        "    mode_embark_town = titanic['embark_town'].mode()[0]\n",
        "    titanic['embark_town'] = titanic['embark_town'].fillna(mode_embark_town)\n",
        "    print(\"Filled missing 'embark_town' with mode.\")\n",
        "\n",
        "# Fill missing age values with median\n",
        "median_age = titanic['age'].median()\n",
        "titanic['age'] = titanic['age'].fillna(median_age)\n",
        "print(\"Filled missing 'age' values with median.\")\n",
        "\n",
        "# Drop rows where 'alive' has missing values\n",
        "data_clean = titanic.dropna(subset=['alive'])\n",
        "print(f\"Dropped rows with missing 'alive'. Remaining rows: {data_clean.shape[0]}\")\n",
        "\n",
        "# Display the cleaned data\n",
        "print(data_clean.head())  # Show the first few rows of the cleaned DataFrame"
      ],
      "metadata": {
        "colab": {
          "base_uri": "https://localhost:8080/"
        },
        "id": "yRC3VCuPwZVm",
        "outputId": "008b4d83-b1ed-4b6c-faf1-3f08617666f0"
      },
      "execution_count": null,
      "outputs": [
        {
          "output_type": "stream",
          "name": "stdout",
          "text": [
            "Filled missing 'embark_town' with mode.\n",
            "Filled missing 'age' values with median.\n",
            "Dropped rows with missing 'alive'. Remaining rows: 891\n",
            "   survived  pclass  sex   age  sibsp  parch     fare embarked class  who  \\\n",
            "0         0       3   -1  22.0      1      0   7.2500        S     3    0   \n",
            "1         1       1   -1  38.0      1      0  71.2833        C     1    1   \n",
            "2         1       3   -1  26.0      0      0   7.9250        S     3    1   \n",
            "3         1       1   -1  35.0      1      0  53.1000        S     1    1   \n",
            "4         0       3   -1  35.0      0      0   8.0500        S     3    0   \n",
            "\n",
            "   adult_male  embark_town alive  alone  \n",
            "0        True  Southampton    no  False  \n",
            "1       False    Cherbourg   yes  False  \n",
            "2       False  Southampton   yes   True  \n",
            "3       False  Southampton   yes  False  \n",
            "4        True  Southampton    no   True  \n"
          ]
        }
      ]
    },
    {
      "cell_type": "code",
      "source": [
        "# Change the category labels to numerical form\n",
        "titanic['sex'] = titanic['sex'].map({'male': 0, 'female': 1})\n",
        "\n",
        "# Change 'class' labels to numerical values\n",
        "titanic['class'] = titanic['class'].map({'First': 1, 'Second': 2, 'Third': 3})\n",
        "\n",
        "# Change 'who' labels to numerical values\n",
        "titanic['who'] = titanic['who'].map({'man': 0, 'woman': 1, 'child': 2})\n",
        "\n",
        "# Select relevant features\n",
        "features = ['pclass', 'sex', 'age', 'sibsp', 'parch', 'fare']\n",
        "\n",
        "X = titanic[features]\n",
        "y = titanic['survived']\n",
        "\n",
        "# Display the first few rows of the features and target\n",
        "print(X.head())\n",
        "print(y.head())\n"
      ],
      "metadata": {
        "colab": {
          "base_uri": "https://localhost:8080/"
        },
        "id": "87W60YkIwaKv",
        "outputId": "be6493b2-d288-4f5b-eaa1-8a9054f9a51e"
      },
      "execution_count": null,
      "outputs": [
        {
          "output_type": "stream",
          "name": "stdout",
          "text": [
            "   pclass  sex   age  sibsp  parch     fare\n",
            "0       3  NaN  22.0      1      0   7.2500\n",
            "1       1  NaN  38.0      1      0  71.2833\n",
            "2       3  NaN  26.0      0      0   7.9250\n",
            "3       1  NaN  35.0      1      0  53.1000\n",
            "4       3  NaN  35.0      0      0   8.0500\n",
            "0    0\n",
            "1    1\n",
            "2    1\n",
            "3    1\n",
            "4    0\n",
            "Name: survived, dtype: int64\n"
          ]
        }
      ]
    },
    {
      "cell_type": "code",
      "source": [
        "from sklearn.model_selection import train_test_split\n",
        "\n",
        "# Assuming X and y have already been defined as in previous steps\n",
        "\n",
        "# Split the data into training and testing sets\n",
        "X_train, X_test, y_train, y_test = train_test_split(X, y, test_size=0.2, random_state=42)\n",
        "\n",
        "# Display the shape of the resulting datasets\n",
        "print(\"X_train shape:\", X_train.shape)\n",
        "print(\"X_test shape:\", X_test.shape)\n",
        "print(\"y_train shape:\", y_train.shape)\n",
        "print(\"y_test shape:\", y_test.shape)"
      ],
      "metadata": {
        "colab": {
          "base_uri": "https://localhost:8080/"
        },
        "id": "x2I9hDATwfNi",
        "outputId": "08ef4b33-9c9a-4b67-fc86-554e17defe7f"
      },
      "execution_count": null,
      "outputs": [
        {
          "output_type": "stream",
          "name": "stdout",
          "text": [
            "X_train shape: (712, 6)\n",
            "X_test shape: (179, 6)\n",
            "y_train shape: (712,)\n",
            "y_test shape: (179,)\n"
          ]
        }
      ]
    },
    {
      "cell_type": "code",
      "source": [
        "from sklearn.linear_model import LogisticRegression\n",
        "\n",
        "# Load Titanic dataset (replace with actual path)\n",
        "# titanic = pd.read_csv('path_to_titanic_dataset.csv')\n",
        "\n",
        "# Check unique values in 'sex' column\n",
        "print(\"Unique values in 'sex' before mapping:\", titanic['sex'].unique())\n",
        "\n",
        "# Fill NaN values in 'sex' column with a placeholder\n",
        "titanic['sex'].fillna('unknown', inplace=True)\n",
        "\n",
        "# Now re-map the 'sex' column after handling NaNs\n",
        "titanic['sex'] = titanic['sex'].map({'male': 0, 'female': 1, 'unknown': -1})\n",
        "\n",
        "# Select relevant features (example features)\n",
        "features = ['sex', 'age', 'fare']  # Add more features as needed\n",
        "X = titanic[features]\n",
        "y = titanic['survived']\n",
        "\n",
        "# Split into train and test sets\n",
        "X_train, X_test, y_train, y_test = train_test_split(X, y, test_size=0.2, random_state=42)\n",
        "\n",
        "# Check for NaN values in X_train again\n",
        "print(\"NaN values in X_train after adjustments:\", X_train.isnull().sum())\n",
        "\n",
        "# Initialize the model\n",
        "model = LogisticRegression()\n",
        "\n",
        "# Fit the model to the training data\n",
        "model.fit(X_train, y_train)\n",
        "\n",
        "# Output the model's coefficients and intercept\n",
        "print(\"Model coefficients:\", model.coef_)\n",
        "print(\"Intercept:\", model.intercept_)\n"
      ],
      "metadata": {
        "colab": {
          "base_uri": "https://localhost:8080/"
        },
        "id": "QG3AZPfVwibz",
        "outputId": "34cec193-505c-4d7e-c51a-a68516e2927f"
      },
      "execution_count": null,
      "outputs": [
        {
          "output_type": "stream",
          "name": "stdout",
          "text": [
            "Unique values in 'sex' before mapping: [nan]\n",
            "NaN values in X_train after adjustments: sex     0\n",
            "age     0\n",
            "fare    0\n",
            "dtype: int64\n",
            "Model coefficients: [[-0.00094458 -0.01305592  0.0141763 ]]\n",
            "Intercept: [-0.57074995]\n"
          ]
        },
        {
          "output_type": "stream",
          "name": "stderr",
          "text": [
            "<ipython-input-18-b3e4906a0263>:10: FutureWarning: A value is trying to be set on a copy of a DataFrame or Series through chained assignment using an inplace method.\n",
            "The behavior will change in pandas 3.0. This inplace method will never work because the intermediate object on which we are setting values always behaves as a copy.\n",
            "\n",
            "For example, when doing 'df[col].method(value, inplace=True)', try using 'df.method({col: value}, inplace=True)' or df[col] = df[col].method(value) instead, to perform the operation inplace on the original object.\n",
            "\n",
            "\n",
            "  titanic['sex'].fillna('unknown', inplace=True)\n",
            "<ipython-input-18-b3e4906a0263>:10: FutureWarning: Setting an item of incompatible dtype is deprecated and will raise an error in a future version of pandas. Value 'unknown' has dtype incompatible with float64, please explicitly cast to a compatible dtype first.\n",
            "  titanic['sex'].fillna('unknown', inplace=True)\n"
          ]
        }
      ]
    },
    {
      "cell_type": "code",
      "source": [
        "from sklearn.metrics import accuracy_score, confusion_matrix, classification_report\n",
        "\n",
        "# Predictions\n",
        "y_pred = model.predict(X_test)\n",
        "\n",
        "# Evaluate the model\n",
        "accuracy = accuracy_score(y_test, y_pred)\n",
        "\n",
        "conf_matrix = confusion_matrix(y_test, y_pred)\n",
        "\n",
        "class_report = classification_report(y_test, y_pred)\n",
        "\n",
        "# Print the evaluation metrics\n",
        "print(f'Accuracy: {accuracy:.4f}')  # Formatted to 4 decimal places\n",
        "print('Confusion Matrix:\\n', conf_matrix)\n",
        "print('Classification Report:\\n', class_report)\n"
      ],
      "metadata": {
        "id": "gN3x0dElw39o",
        "outputId": "225eecf2-58d2-4c14-bdc2-73ef67693a40",
        "colab": {
          "base_uri": "https://localhost:8080/"
        }
      },
      "execution_count": null,
      "outputs": [
        {
          "output_type": "stream",
          "name": "stdout",
          "text": [
            "Accuracy: 0.6480\n",
            "Confusion Matrix:\n",
            " [[100   5]\n",
            " [ 58  16]]\n",
            "Classification Report:\n",
            "               precision    recall  f1-score   support\n",
            "\n",
            "           0       0.63      0.95      0.76       105\n",
            "           1       0.76      0.22      0.34        74\n",
            "\n",
            "    accuracy                           0.65       179\n",
            "   macro avg       0.70      0.58      0.55       179\n",
            "weighted avg       0.69      0.65      0.59       179\n",
            "\n"
          ]
        }
      ]
    },
    {
      "cell_type": "code",
      "source": [],
      "metadata": {
        "id": "NA5mFdktw44Z"
      },
      "execution_count": null,
      "outputs": []
    }
  ]
}